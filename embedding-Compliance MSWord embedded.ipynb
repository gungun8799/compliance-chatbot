{
 "cells": [
  {
   "cell_type": "code",
   "execution_count": 12,
   "metadata": {},
   "outputs": [
    {
     "data": {
      "text/plain": [
       "True"
      ]
     },
     "execution_count": 12,
     "metadata": {},
     "output_type": "execute_result"
    }
   ],
   "source": [
    "import os\n",
    "import nest_asyncio\n",
    "\n",
    "from llama_index.core import Document, VectorStoreIndex, StorageContext\n",
    "from llama_index.vector_stores.qdrant import QdrantVectorStore\n",
    "from llama_index.core.vector_stores import VectorStoreQueryResult\n",
    "from qdrant_client import QdrantClient, AsyncQdrantClient\n",
    "from llama_index.embeddings.cohere import CohereEmbedding\n",
    "from llama_index.core import Settings\n",
    "from typing import List\n",
    "from dotenv import load_dotenv\n",
    "import json\n",
    "import os\n",
    "nest_asyncio.apply()\n",
    "load_dotenv()"
   ]
  },
  {
   "cell_type": "code",
   "execution_count": 13,
   "metadata": {},
   "outputs": [],
   "source": [
    "from docx import Document\n",
    "\n",
    "def extract_tables_as_markdown(docx_path):\n",
    "    doc = Document(docx_path)\n",
    "    markdown_tables = []\n",
    "    for table in doc.tables:\n",
    "        rows = []\n",
    "        for row in table.rows:\n",
    "            cells = [cell.text.strip() for cell in row.cells]\n",
    "            rows.append(\"| \" + \" | \".join(cells) + \" |\")\n",
    "        if rows:\n",
    "            header = rows[0]\n",
    "            separator = \"| \" + \" | \".join([\"---\"] * len(table.columns)) + \" |\"\n",
    "            markdown_table = \"\\n\".join([header, separator] + rows[1:])\n",
    "            markdown_tables.append(markdown_table)\n",
    "    return markdown_tables"
   ]
  },
  {
   "cell_type": "code",
   "execution_count": 14,
   "metadata": {},
   "outputs": [
    {
     "name": "stdout",
     "output_type": "stream",
     "text": [
      "Found 7 .docx file(s):\n",
      "  • documents/FA-G-02_StaffReimbursement_SectionAware.docx\n",
      "  • documents/CPAX-FN-005_ProjectInvestment_SectionAware.docx\n",
      "  • documents/FA-G-15_SectionAware_Final_Sectioned.docx\n",
      "  • documents/FA-G-17_SectionAwareChunking.docx\n",
      "  • documents/FA-G-07_NonTradeSupplier_SectionAware.docx\n",
      "  • documents/FA-B2B-01_CreditMgmt_SectionAware.docx\n",
      "  • documents/FA-G-08 อำนาจอนุมัติรายจ่ายสำหรับ Purchase Requisition_แปลงตาราง.docx\n",
      "Loaded 7 raw Document(s) from all .docx files.\n",
      "After splitting, we have 122 chunked Documents (nodes).\n"
     ]
    }
   ],
   "source": [
    "from llama_index.readers.file import DocxReader\n",
    "from llama_index.core.node_parser import SentenceSplitter\n",
    "from llama_index.core.schema import Document\n",
    "import os\n",
    "import glob\n",
    "\n",
    "# ——————————————\n",
    "# CONFIGURATION\n",
    "# ——————————————\n",
    "\n",
    "# 1) Directory where all your .docx files live\n",
    "DOCX_FOLDER = \"documents/\"\n",
    "\n",
    "# ——————————————\n",
    "# STEP 1: Discover all .docx files\n",
    "# ——————————————\n",
    "\n",
    "all_paths = glob.glob(os.path.join(DOCX_FOLDER, \"*.docx\"))\n",
    "print(f\"Found {len(all_paths)} .docx file(s):\")\n",
    "for p in all_paths:\n",
    "    print(\"  •\", p)\n",
    "\n",
    "# ——————————————\n",
    "# STEP 2: Load each DOCX and wrap as Document\n",
    "# ——————————————\n",
    "\n",
    "reader = DocxReader()\n",
    "raw_documents = []\n",
    "for file_path in all_paths:\n",
    "    # load_data returns a list of in‐memory “page” objects \n",
    "    docx_pages = reader.load_data(file_path)\n",
    "    for page_obj in docx_pages:\n",
    "        raw_documents.append(\n",
    "            Document(\n",
    "                text=page_obj.text,\n",
    "                metadata={\"source\": os.path.basename(file_path)}\n",
    "            )\n",
    "        )\n",
    "\n",
    "print(f\"Loaded {len(raw_documents)} raw Document(s) from all .docx files.\")\n",
    "\n",
    "# ——————————————\n",
    "# STEP 3: Chunk each Document semantically\n",
    "# ——————————————\n",
    "\n",
    "splitter = SentenceSplitter(chunk_size=1000, chunk_overlap=100)\n",
    "\n",
    "nodes = []\n",
    "for doc in raw_documents:\n",
    "    chunks = splitter.split_text(doc.text)\n",
    "    for i, chunk in enumerate(chunks):\n",
    "        nodes.append(\n",
    "            Document(\n",
    "                text=chunk,\n",
    "                metadata={**doc.metadata, \"chunk_id\": i}\n",
    "            )\n",
    "        )\n",
    "\n",
    "print(f\"After splitting, we have {len(nodes)} chunked Documents (nodes).\")\n",
    "\n",
    "# ——————————————\n",
    "# FINAL: Assign to `documents` so the rest of your pipeline can stay unchanged\n",
    "# ——————————————\n",
    "\n",
    "documents = nodes\n",
    "\n",
    "# Now you can call your index creation exactly as before:\n",
    "# from llama_index.core.embeddings import CohereEmbedding  # or whichever embed_model you use\n",
    "# from llama_index.core.storage import StorageContext\n",
    "# from llama_index.vector_stores import QdrantVectorStore\n",
    "# from llama_index import VectorStoreIndex\n",
    "\n",
    "# Example (adjust embed_model, storage_context, etc. to your configuration):\n",
    "# storage_context = StorageContext.from_defaults(vector_store=vector_store)\n",
    "# index = VectorStoreIndex.from_documents(\n",
    "#     documents=documents,\n",
    "#     embed_model=Settings.embed_model,\n",
    "#     storage_context=storage_context,\n",
    "# )"
   ]
  },
  {
   "cell_type": "code",
   "execution_count": 15,
   "metadata": {},
   "outputs": [],
   "source": [
    "from llama_index.core import StorageContext"
   ]
  },
  {
   "cell_type": "markdown",
   "metadata": {},
   "source": [
    "## Setup Cohear Embedding service"
   ]
  },
  {
   "cell_type": "code",
   "execution_count": 16,
   "metadata": {},
   "outputs": [
    {
     "name": "stdout",
     "output_type": "stream",
     "text": [
      "🔑 Using Cohere key:    Iyn2rmOdEgiUKfxptJDhCKRwgfeIWhZ37sxzKUAc\n",
      "🔢 Using Cohere model:  embed-multilingual-light-v3.0\n"
     ]
    }
   ],
   "source": [
    "# … (no need to call load_dotenv() here) …\n",
    "\n",
    "# Hard-code your key and model ID:\n",
    "COHEAR_KEY      = \"Iyn2rmOdEgiUKfxptJDhCKRwgfeIWhZ37sxzKUAc\"\n",
    "COHEAR_MODEL_ID = \"embed-multilingual-light-v3.0\"\n",
    "\n",
    "print(\"🔑 Using Cohere key:   \", COHEAR_KEY)\n",
    "print(\"🔢 Using Cohere model: \", COHEAR_MODEL_ID)\n",
    "\n",
    "embed_model = CohereEmbedding(\n",
    "    api_key=COHEAR_KEY,\n",
    "    model_name=COHEAR_MODEL_ID,\n",
    "    input_type=\"search_document\",\n",
    "    embedding_type=\"float\",\n",
    ")\n",
    "\n",
    "Settings.chunk_size = 1024"
   ]
  },
  {
   "cell_type": "markdown",
   "metadata": {},
   "source": [
    "## Innitiates VectorStore database (Qdrant)"
   ]
  },
  {
   "cell_type": "code",
   "execution_count": 17,
   "metadata": {},
   "outputs": [
    {
     "name": "stderr",
     "output_type": "stream",
     "text": [
      "/var/folders/z5/qxv1ygl57v34c8nqkcj1m3200000gn/T/ipykernel_10595/2846219684.py:2: UserWarning: Api key is used with an insecure connection.\n",
      "  client = QdrantClient(url=\"http://localhost:6334\", api_key=os.getenv(\"QDRANT_API_KEY\"),  prefer_grpc=True)\n"
     ]
    }
   ],
   "source": [
    "# creates a persistant index to disk\n",
    "client = QdrantClient(url=\"http://localhost:6334\", api_key=os.getenv(\"QDRANT_API_KEY\"),  prefer_grpc=True)\n",
    "\n",
    "# # delete collection if it exists\n",
    "if client.collection_exists(os.getenv(\"QDANT_COLLENCTION_NAME\")):\n",
    "    client.delete_collection(os.getenv(\"QDANT_COLLENCTION_NAME\"))\n",
    "\n",
    "# create our vector store with hybrid indexing enabled\n",
    "vector_store = QdrantVectorStore(\n",
    "    os.getenv(\"QDANT_COLLENCTION_NAME\"),\n",
    "    client=client,\n",
    "    enable_hybrid=True,\n",
    "    batch_size=20,\n",
    "    prefer_grpc=True,\n",
    ")\n"
   ]
  },
  {
   "cell_type": "markdown",
   "metadata": {},
   "source": [
    "## Start embedding process.... into vector database"
   ]
  },
  {
   "cell_type": "code",
   "execution_count": 18,
   "metadata": {},
   "outputs": [],
   "source": [
    "storage_context = StorageContext.from_defaults(vector_store=vector_store)\n",
    "index = VectorStoreIndex.from_documents(\n",
    "    documents=documents, embed_model=embed_model, storage_context=storage_context,\n",
    ")\n",
    "COHERE_KEY = os.getenv(\"COHEAR_API_KEY\")\n",
    "COHEAR_MODEL = os.getenv(\"COHEAR_MODEL_ID\")\n",
    "QDRANT_URL = os.getenv(\"QDRANT_URL\", \"http://localhost:6334\")\n",
    "QDRANT_API_KEY = os.getenv(\"QDRANT_API_KEY\", None)\n",
    "COLLECTION_NAME = os.getenv(\"QDANT_COLLENCTION_NAME\", \"my_collection\")\n",
    "\n",
    "if not COHERE_KEY:\n",
    "    raise RuntimeError(\"COHERE_API_KEY is not set in your environment\")\n",
    "\n",
    "# 2) (Re)initialize the Cohere embedder with the new API key\n",
    "embed_model = CohereEmbedding(\n",
    "    cohere_api_key=COHERE_KEY,\n",
    "    model_name=COHEAR_MODEL,\n",
    "    input_type=\"search_document\",\n",
    "    embedding_type=\"float\",\n",
    ")"
   ]
  },
  {
   "cell_type": "markdown",
   "metadata": {},
   "source": [
    "## Try to retrive relavent nodes with question."
   ]
  },
  {
   "cell_type": "code",
   "execution_count": 19,
   "metadata": {},
   "outputs": [],
   "source": [
    "embed_model = CohereEmbedding(\n",
    "    api_key=os.getenv(\"COHEAR_API_KEY\"),\n",
    "    model_name=os.getenv(\"COHEAR_MODEL_ID\"),\n",
    "    input_type=\"search_query\",\n",
    "    embedding_type=\"float\",\n",
    ")\n",
    "\n",
    "search_query_retriever = index.as_retriever()\n",
    "\n",
    "search_query_retrieved_nodes = search_query_retriever.retrieve(\n",
    "\"Do all Walmart locations offer scan & go?\"\n",
    ")"
   ]
  },
  {
   "cell_type": "code",
   "execution_count": 20,
   "metadata": {},
   "outputs": [
    {
     "data": {
      "text/markdown": [
       "**Node ID:** 0d70a22c-d297-4d7b-a5e1-73705e22ba8b<br>**Similarity:** 0.17325928807258606<br>**Text:** สายบังคับบัญชาของทีมขาย B2B\n",
       "\n",
       "พนักงานขายของ Lotus’s : \n",
       "\n",
       "Go-fresh : ผู้จัดการทั่วไป (Area General Manager – AGM)\n",
       "\n",
       "Hypermarket พนักงานขายในสาขา : ผู้จัดการสาขา (Store Manager) ->ผู้จัดการทั่วไป (Area General Manager – AGM)\n",
       "\n",
       "Hypermarket พนักงานขายนอกสาขา : ผู้จัดการเขตขาย (Zone Manager) -> ผู้จัดการอาวุโสเขตขาย (Senior Zone Manager)\n",
       "\n",
       "พนักงานขายของ Makro : ผู้จัดการฝ่ายขาย (Sales Manager) ->ผู้จัดการฝ่ายขายประจำภูมิภาค (Regional Sales Manager)\n",
       "\n",
       "\n",
       "\n",
       "\n",
       "\n",
       "\n",
       "คำถามอื่นๆของ B2B ที่นอกเหนือ Policy\n",
       "\n",
       "หัวข้อคำถามเกี่ยวกับเรื่อง  Open new CV - เปิดหน้าบัญชีลูกค้าใหม่  คำถาม : ลูกค้ารายนี้เคยเปิดหน้าบัญชี หรือเคยมีการซื้อขายกับบริษัทฯมาก่อนหรือไม่?  คำตอบ : ขอให้ตรวจสอบข้อมูลของลูกค้าโดยใช้เลขประจำตัวผู้เสียภาษี 13 หลัก (Tax ID) เข้าไปตรวจสอบในระบบ smartsoft\n",
       "\n",
       "หัวข้อคำถามเกี่ยวกับเรื่อง  Open new CV - เปิดหน้าบัญชีลูกค้าใหม่  คำถาม : ต้องใช้เอกสารอะไรบ้างในการเปิดบัญชีลูกค้าใหม่?  คำตอบ : กรณีลูกค้าเป็นบุคคลธรรมดาต้องแนบเอกสารสำคัญดังนี้ สำเนาใบเปิดบัญชีลูกค้า+สำเนาบัตรประจำตัวประชาชนหรือบัตรข้าราชการของลูกค้า/เจ้าของ/ผู้ประกอบการ/หุ้นส่วนผู้จัดการ/กรรมการผู้มีอำนาจ+รูปถ่ายเซลฟี่ของพนักงานขายกับสถานประกอบการ (ต้องเห็นป้ายหน้าร้าน/บริษัทฯ) และหากมีเอกสารเหล่านี้ให้แนบมาด้วย คือสำเนาหนังสือรับรองการจดทะเบียนพาณิชย์หรือสำเนาหังสือจัดตั้งหุ้นส่วนสามัญและ/หรือสำเนาใบทะเบียนภาษีมูลค่าเพิ่ม(ภพ.<br>"
      ],
      "text/plain": [
       "<IPython.core.display.Markdown object>"
      ]
     },
     "metadata": {},
     "output_type": "display_data"
    },
    {
     "data": {
      "text/markdown": [
       "**Node ID:** e1a6da9c-c96f-4e04-bf77-8dd6de24cf92<br>**Similarity:** 0.1716158092021942<br>**Text:** ถ่ายรูปตัวเองอยู่หน้าร้านไม่ต้องใส่แมส 2.อย่าแนบรูปกลับด้าน (Mirror) 3.สวมเสื้อพนักงานหรือแขวนบัตรพนักงาน\n",
       "\n",
       "หัวข้อคำถามเกี่ยวกับเรื่อง  Open new CV - เปิดหน้าบัญชีลูกค้าใหม่  คำถาม : กรณีที่พนักงานขายไปพบลูกค้าเพียงคนเดียว จะถ่ายรูปกับสถานประกอบการอย่างไร  คำตอบ : สามารถแนบรูปเซลฟี่ตนเองหน้าสถานประกอบการ และ แนบพร้อมกับรูปถ่ายของตึกอาคารมุมกว้างเพิ่ม\n",
       "ถ่ายรูปให้เห็นโลโก้ป้าย/หน้าร้าน/บ้านเลขที่ 1.ถ่ายรูปตัวเองอยู่หน้าร้านไม่ต้องใส่แมส 2.อย่าแนบรูปกลับด้าน (Mirror) 3.สวมเสื้อพนักงานหรือแขวนบัตรพนักงาน\n",
       "\n",
       "หัวข้อคำถามเกี่ยวกับเรื่อง  Open new CV - เปิดหน้าบัญชีลูกค้าใหม่  คำถาม : กลุ่มลูกค้าใดบ้างที่ต้องถ่ายกับ พนักงานกับ สถานประกอบการ  คำตอบ : กลุ่มลูกค้าเครดิตระยะสั้น กลุ่มเครดิตบุคคลธรรมดา 0-3 วัน และ นิติบุคคล 0-30 วัน หรือ ประเภทลูกค้า Type 70-80 \n",
       "\n",
       "หัวข้อคำถามเกี่ยวกับเรื่อง  Open new CV - เปิดหน้าบัญชีลูกค้าใหม่  คำถาม : ลูกค้า COD สด Instore คืออะไร   คำตอบ : สำหรับการขายสดในร้าน  Cash on Delivery (COD – Instore)  ข้อมูลลูกค้าจะถูกดึงมาจาก My Lotus’s การสร้างลูกค้าใหม่บุคคลธรรมดาจะไม่ผ่านการอนุมัติ CV โดยผู้อนุมัติฝ่ายขายและ MDM แต่พนักงานขายยังคงต้องแนบสำเนาบัตรประชาชนของลูกค้าเป็นเอกสารประกอบในระบบ (ในกรณีที่ลูกค้ายังไม่ได้เป็นสมาชิก ลูกค้าต้องดำเนินการสมัคร user My Lotus’s<br>"
      ],
      "text/plain": [
       "<IPython.core.display.Markdown object>"
      ]
     },
     "metadata": {},
     "output_type": "display_data"
    }
   ],
   "source": [
    "from llama_index.core.response.notebook_utils import display_source_node\n",
    "for n in search_query_retrieved_nodes:\n",
    "    display_source_node(n, source_length=2000)"
   ]
  },
  {
   "cell_type": "code",
   "execution_count": null,
   "metadata": {},
   "outputs": [],
   "source": []
  },
  {
   "cell_type": "code",
   "execution_count": null,
   "metadata": {},
   "outputs": [],
   "source": []
  },
  {
   "cell_type": "code",
   "execution_count": null,
   "metadata": {},
   "outputs": [],
   "source": []
  }
 ],
 "metadata": {
  "kernelspec": {
   "display_name": "Python 3 (ipykernel)",
   "language": "python",
   "name": "python3"
  },
  "language_info": {
   "codemirror_mode": {
    "name": "ipython",
    "version": 3
   },
   "file_extension": ".py",
   "mimetype": "text/x-python",
   "name": "python",
   "nbconvert_exporter": "python",
   "pygments_lexer": "ipython3",
   "version": "3.11.7"
  }
 },
 "nbformat": 4,
 "nbformat_minor": 4
}
