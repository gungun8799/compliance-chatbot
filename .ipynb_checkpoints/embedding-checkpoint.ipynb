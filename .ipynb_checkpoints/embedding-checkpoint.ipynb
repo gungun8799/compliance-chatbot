{
 "cells": [
  {
   "cell_type": "code",
   "execution_count": 1,
   "metadata": {},
   "outputs": [
    {
     "name": "stderr",
     "output_type": "stream",
     "text": [
      "/Users/chirawatchitpakdee/personal_project/rag-faq-chatbot/.conda/lib/python3.11/site-packages/tqdm/auto.py:21: TqdmWarning: IProgress not found. Please update jupyter and ipywidgets. See https://ipywidgets.readthedocs.io/en/stable/user_install.html\n",
      "  from .autonotebook import tqdm as notebook_tqdm\n"
     ]
    },
    {
     "data": {
      "text/plain": [
       "True"
      ]
     },
     "execution_count": 1,
     "metadata": {},
     "output_type": "execute_result"
    }
   ],
   "source": [
    "import os\n",
    "import nest_asyncio\n",
    "\n",
    "from llama_index.core import Document, VectorStoreIndex, StorageContext\n",
    "from llama_index.vector_stores.qdrant import QdrantVectorStore\n",
    "from llama_index.core.vector_stores import VectorStoreQueryResult\n",
    "from qdrant_client import QdrantClient, AsyncQdrantClient\n",
    "from llama_index.embeddings.cohere import CohereEmbedding\n",
    "from llama_index.core import Settings\n",
    "from typing import List\n",
    "from dotenv import load_dotenv\n",
    "import json\n",
    "import os\n",
    "nest_asyncio.apply()\n",
    "load_dotenv()"
   ]
  },
  {
   "cell_type": "markdown",
   "metadata": {},
   "source": [
    "## Setup function to transform JSON into documents."
   ]
  },
  {
   "cell_type": "code",
   "execution_count": 2,
   "metadata": {},
   "outputs": [],
   "source": [
    "def create_faq_docs(json_path: str, documents: List[Document]) -> int:\n",
    "    initial_count = len(documents)  # Track initial number of documents\n",
    "    \n",
    "    with open(json_path, mode=\"r\", encoding=\"utf-8\") as file:\n",
    "        faq_data = json.load(file)\n",
    "    \n",
    "    for i, entry in enumerate(faq_data):\n",
    "        category = entry.get(\"category\", \"General\").strip()\n",
    "        question = entry.get(\"question\", \"\").strip()\n",
    "        answer = entry.get(\"answer\", \"\").strip()\n",
    "        \n",
    "        if question and answer:\n",
    "            json_data = {\n",
    "                \"Question\": question,\n",
    "                \"Answer\": answer,\n",
    "            }\n",
    "            \n",
    "            metadata = {\n",
    "                \"category\": category,\n",
    "                \"language\": \"English\",\n",
    "            }\n",
    "            \n",
    "            text_content = json.dumps(json_data, ensure_ascii=False)\n",
    "            document = Document(text=text_content, metadata=metadata, doc_id=f\"faq_{i}\")\n",
    "            documents.append(document)\n",
    "    \n",
    "    # Return the number of documents appended\n",
    "    return len(documents) - initial_count"
   ]
  },
  {
   "cell_type": "code",
   "execution_count": 3,
   "metadata": {},
   "outputs": [],
   "source": [
    "def print_documents_by_indices(documents: List[Document], indices: List[int]) -> None:\n",
    "    \"\"\"\n",
    "    Print documents at specific indices.\n",
    "\n",
    "    Parameters:\n",
    "        documents (List[Document]): The list of documents.\n",
    "        indices (List[int]): A list of indices of the documents to print.\n",
    "    \"\"\"\n",
    "    for index in indices:\n",
    "        if 0 <= index < len(documents):  # Check if index is within bounds\n",
    "            print(f\"Document {index}:\")\n",
    "            print(f\"  doc_id: {documents[index].doc_id}\")\n",
    "            print(f\"  text: {documents[index].text}\")\n",
    "            print(f\"  metadata: {documents[index].metadata}\")\n",
    "            print()  # Add a blank line for readability\n",
    "        else:\n",
    "            print(f\"Index {index} is out of bounds. Please specify a valid index.\")"
   ]
  },
  {
   "cell_type": "markdown",
   "metadata": {},
   "source": [
    "### Show some documents example."
   ]
  },
  {
   "cell_type": "code",
   "execution_count": 4,
   "metadata": {},
   "outputs": [
    {
     "name": "stdout",
     "output_type": "stream",
     "text": [
      "Example documents:\n",
      "Document 0:\n",
      "  doc_id: faq_0\n",
      "  text: {\"Question\": \"What is Walmart+?\", \"Answer\": \"Walmart+ is Walmart’s membership program helping members save more time & money with exclusive benefits. With Walmart+, you get free delivery on groceries & more, gas savings, video streaming + so much more!\"}\n",
      "  metadata: {'category': 'Walmart+ Membership', 'language': 'English'}\n",
      "\n",
      "Document 10:\n",
      "  doc_id: faq_10\n",
      "  text: {\"Question\": \"Which membership types are eligible for Walmart+ Assist?\", \"Answer\": \"New members, existing members, canceled members, paused members & trial members are all eligible for Walmart+ Assist. To transfer your membership from Walmart+ to Walmart+ Assist, [click here](https://www.walmart.com/plus/assist) & complete the Walmart+ Assist sign-up process. Note: If your Walmart+ membership is associated with a service you receive through another company (i.e., Amex, TracFone, etc.), you’ll need to end that association before you can sign up for Walmart+ Assist.\"}\n",
      "  metadata: {'category': 'Walmart+ Assist', 'language': 'English'}\n",
      "\n",
      "115 FAQ documents have been appended.\n"
     ]
    }
   ],
   "source": [
    "# Example usage:\n",
    "documents = []\n",
    "faq_count = create_faq_docs(\"documents/walmart_faqs.json\", documents)\n",
    "\n",
    "# Specify the list of indices to print\n",
    "print(\"Example documents:\")\n",
    "indices_to_print = [0, 10]\n",
    "print_documents_by_indices(documents, indices_to_print)\n",
    "print(f\"{faq_count} FAQ documents have been appended.\")"
   ]
  },
  {
   "cell_type": "markdown",
   "metadata": {},
   "source": [
    "## Setup Cohear Embedding service"
   ]
  },
  {
   "cell_type": "code",
   "execution_count": 5,
   "metadata": {},
   "outputs": [],
   "source": [
    "embed_model = CohereEmbedding(\n",
    "    api_key=os.getenv(\"COHEAR_API_KEY\"),\n",
    "    model_name=os.getenv(\"COHEAR_MODEL_ID\"),\n",
    "    input_type=\"search_document\",\n",
    "    embedding_type=\"float\",\n",
    ")\n",
    "\n",
    "Settings.chunk_size = 512"
   ]
  },
  {
   "cell_type": "markdown",
   "metadata": {},
   "source": [
    "## Innitiates VectorStore database (Qdrant)"
   ]
  },
  {
   "cell_type": "code",
   "execution_count": 6,
   "metadata": {},
   "outputs": [
    {
     "name": "stderr",
     "output_type": "stream",
     "text": [
      "/var/folders/l3/qcb2j73n36xbr81x44cbz7580000gp/T/ipykernel_6409/55195034.py:2: UserWarning: Api key is used with an insecure connection.\n",
      "  client = QdrantClient(url=\"http://localhost:6334\", api_key=os.getenv(\"QDRANT_API_KEY\"),  prefer_grpc=True)\n"
     ]
    }
   ],
   "source": [
    "# creates a persistant index to disk\n",
    "client = QdrantClient(url=\"http://localhost:6334\", api_key=os.getenv(\"QDRANT_API_KEY\"),  prefer_grpc=True)\n",
    "\n",
    "# # delete collection if it exists\n",
    "if client.collection_exists(os.getenv(\"QDANT_COLLENCTION_NAME\")):\n",
    "    client.delete_collection(os.getenv(\"QDANT_COLLENCTION_NAME\"))\n",
    "\n",
    "# create our vector store with hybrid indexing enabled\n",
    "vector_store = QdrantVectorStore(\n",
    "    os.getenv(\"QDANT_COLLENCTION_NAME\"),\n",
    "    client=client,\n",
    "    enable_hybrid=True,\n",
    "    batch_size=20,\n",
    "    prefer_grpc=True,\n",
    ")"
   ]
  },
  {
   "cell_type": "markdown",
   "metadata": {},
   "source": [
    "## Start embedding process.... into vector database"
   ]
  },
  {
   "cell_type": "code",
   "execution_count": 7,
   "metadata": {},
   "outputs": [],
   "source": [
    "storage_context = StorageContext.from_defaults(vector_store=vector_store)\n",
    "index = VectorStoreIndex.from_documents(\n",
    "    documents=documents, embed_model=embed_model, storage_context=storage_context,\n",
    ")\n"
   ]
  },
  {
   "cell_type": "markdown",
   "metadata": {},
   "source": [
    "## Try to retrive relavent nodes with question."
   ]
  },
  {
   "cell_type": "code",
   "execution_count": 8,
   "metadata": {},
   "outputs": [],
   "source": [
    "embed_model = CohereEmbedding(\n",
    "    api_key=os.getenv(\"COHEAR_API_KEY\"),\n",
    "    model_name=os.getenv(\"COHEAR_MODEL_ID\"),\n",
    "    input_type=\"search_query\",\n",
    "    embedding_type=\"float\",\n",
    ")\n",
    "\n",
    "search_query_retriever = index.as_retriever()\n",
    "\n",
    "search_query_retrieved_nodes = search_query_retriever.retrieve(\n",
    "\"Do all Walmart locations offer scan & go?\"\n",
    ")"
   ]
  },
  {
   "cell_type": "code",
   "execution_count": 9,
   "metadata": {},
   "outputs": [
    {
     "data": {
      "text/markdown": [
       "**Node ID:** b87202f8-b170-4d55-897f-0bbd3701fd12<br>**Similarity:** 0.7508881092071533<br>**Text:** {\"Question\": \"Do all Walmart locations offer scan & go?\", \"Answer\": \"Yes, mobile scan & go works in all Walmart locations.\"}<br>"
      ],
      "text/plain": [
       "<IPython.core.display.Markdown object>"
      ]
     },
     "metadata": {},
     "output_type": "display_data"
    },
    {
     "data": {
      "text/markdown": [
       "**Node ID:** 6f92da09-9189-46c0-a0dc-dcbb4cdb4cdc<br>**Similarity:** 0.6398637294769287<br>**Text:** {\"Question\": \"How do I get started with mobile scan & go?\", \"Answer\": \"First, be sure to allow Location Access when you open the Walmart app for the first time (if you have previously not allowed this, you’ll need to update it in your phone’s settings). Then, open the Walmart app when you’re inside a Walmart store & select mobile scan & go. Simply scan items as you add them to your cart before checking out & paying directly from your phone.\"}<br>"
      ],
      "text/plain": [
       "<IPython.core.display.Markdown object>"
      ]
     },
     "metadata": {},
     "output_type": "display_data"
    }
   ],
   "source": [
    "from llama_index.core.response.notebook_utils import display_source_node\n",
    "for n in search_query_retrieved_nodes:\n",
    "    display_source_node(n, source_length=2000)"
   ]
  }
 ],
 "metadata": {
  "kernelspec": {
   "display_name": ".conda",
   "language": "python",
   "name": "python3"
  },
  "language_info": {
   "codemirror_mode": {
    "name": "ipython",
    "version": 3
   },
   "file_extension": ".py",
   "mimetype": "text/x-python",
   "name": "python",
   "nbconvert_exporter": "python",
   "pygments_lexer": "ipython3",
   "version": "3.11.11"
  }
 },
 "nbformat": 4,
 "nbformat_minor": 2
}
